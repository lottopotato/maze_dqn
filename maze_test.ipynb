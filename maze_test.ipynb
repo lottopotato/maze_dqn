{
 "cells": [
  {
   "cell_type": "code",
   "execution_count": 1,
   "metadata": {},
   "outputs": [],
   "source": [
    "# maze test\n",
    "import matplotlib\n",
    "matplotlib.use('TkAgg')\n",
    "import numpy as np\n",
    "import tensorflow as tf\n",
    "import gym\n",
    "import matplotlib.pyplot as plt"
   ]
  },
  {
   "cell_type": "code",
   "execution_count": 2,
   "metadata": {},
   "outputs": [],
   "source": [
    "from generator_maze import *"
   ]
  },
  {
   "cell_type": "code",
   "execution_count": 3,
   "metadata": {},
   "outputs": [
    {
     "data": {
      "text/plain": [
       "<Figure size 640x480 with 2 Axes>"
      ]
     },
     "execution_count": 3,
     "metadata": {},
     "output_type": "execute_result"
    }
   ],
   "source": [
    "env = random_maze(width=32, height=32, complexity=0.8, density=0.5, render_trace=True)\n",
    "env.reset()\n",
    "env.render()"
   ]
  },
  {
   "cell_type": "code",
   "execution_count": 4,
   "metadata": {},
   "outputs": [
    {
     "name": "stdout",
     "output_type": "stream",
     "text": [
      "(33, 33) 4\n"
     ]
    }
   ],
   "source": [
    "INPUTSIZE = env.observation_space.shape\n",
    "OUTPUTSIZE = env.action_space.n\n",
    "DISCOUNT = 0.9\n",
    "REPLAY = 5000\n",
    "BATCH_SIZE = 32\n",
    "TARGET_UPDATE_FREQUENCY = 5\n",
    "MAX_EPISODE = 100\n",
    "print(INPUTSIZE, OUTPUTSIZE)"
   ]
  },
  {
   "cell_type": "code",
   "execution_count": 5,
   "metadata": {},
   "outputs": [],
   "source": [
    "def get_copy_params(src:str, dest:str):\n",
    "    holder = []\n",
    "    src_vars = tf.get_collection(tf.GraphKeys.TRAINABLE_VARIABLES, socpe = src)\n",
    "    dest_Vars = tf.get_collection(tf.GraphKeys.TRAINABLE_VARIABLES, scope = dest)\n",
    "    for src_var, dest_var in zip(src_vars, dest_vars):\n",
    "        holder.append(dest_var.assign(src_var.value()))\n",
    "    return holder"
   ]
  },
  {
   "cell_type": "code",
   "execution_count": 6,
   "metadata": {},
   "outputs": [],
   "source": [
    "def replay_train(mainDQN, targetDQN, train_batch):\n",
    "    states = np.vstack([x[0] for x in train_batch])\n",
    "    actions = np.array([x[1] for x in train_batch])\n",
    "    rewards = np.array([x[2] for x in train_batch])\n",
    "    next_states = np.vstack([x[3] for x in train_batch])\n",
    "    done = np.array([x[4] for x in train_batch])\n",
    "    \n",
    "    Q_target = reward + DISCOUNT*np.max(tratgetDQN.predict(next_states), axis=1)*~done\n",
    "    X = states\n",
    "    y = mainDQN.predict(states)\n",
    "    y[np.arange(len(states)), actions] = Q_target\n",
    "    \n",
    "    return mainDQN.update(X, y)\n",
    "    "
   ]
  },
  {
   "cell_type": "code",
   "execution_count": null,
   "metadata": {},
   "outputs": [],
   "source": []
  }
 ],
 "metadata": {
  "kernelspec": {
   "display_name": "Python 3",
   "language": "python",
   "name": "python3"
  },
  "language_info": {
   "codemirror_mode": {
    "name": "ipython",
    "version": 3
   },
   "file_extension": ".py",
   "mimetype": "text/x-python",
   "name": "python",
   "nbconvert_exporter": "python",
   "pygments_lexer": "ipython3",
   "version": "3.6.4"
  }
 },
 "nbformat": 4,
 "nbformat_minor": 2
}
